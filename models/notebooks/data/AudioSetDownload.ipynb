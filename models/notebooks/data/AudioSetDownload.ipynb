{
 "cells": [
  {
   "cell_type": "code",
   "execution_count": null,
   "metadata": {},
   "outputs": [],
   "source": [
    "!mkdir -p ../../audio_set"
   ]
  },
  {
   "cell_type": "code",
   "execution_count": null,
   "metadata": {},
   "outputs": [],
   "source": [
    "# Download data from http://storage.googleapis.com/us_audioset/youtube_corpus/v1/csv/unbalanced_train_segments.csv \n",
    "# Put it in ../../data"
   ]
  },
  {
   "cell_type": "code",
   "execution_count": 4,
   "metadata": {
    "colab": {},
    "colab_type": "code",
    "id": "aRzK7pTrrIZe"
   },
   "outputs": [],
   "source": [
    "import io\n",
    "import pandas as pd\n",
    "from collections import deque"
   ]
  },
  {
   "cell_type": "code",
   "execution_count": 50,
   "metadata": {
    "colab": {},
    "colab_type": "code",
    "id": "VQR9CCm7q-_L"
   },
   "outputs": [],
   "source": [
    "ROOT_DIR=\"../../data/audio_set\"\n",
    "RAW_FILE=\"{}/{}\".format(ROOT_DIR, \"unbalanced_train_segments.csv\")\n",
    "CLEANED_FILE=\"{}/{}\".format(ROOT_DIR, \"cleaned_train_segments.csv\")\n",
    "\n",
    "PANDAS_IN_FILE=\"{}/{}\".format(ROOT_DIR, \"cough_in_train_segments.csv\")"
   ]
  },
  {
   "cell_type": "code",
   "execution_count": 44,
   "metadata": {},
   "outputs": [],
   "source": [
    "# Remove the first 3 lines of file\n",
    "def efficient_dropfirst(f, nf, dropfirst=1, buffersize=3):\n",
    "    f.seek(0)\n",
    "    buffer = deque()\n",
    "    tail_pos = 0\n",
    "    # these next two loops assume the file has many thousands of\n",
    "    # lines so we can safely drop and buffer the first few...\n",
    "    for _ in range(dropfirst):\n",
    "        f.readline()\n",
    "    for _ in range(buffersize):\n",
    "        buffer.append(f.readline())\n",
    "    line = f.readline()\n",
    "    while line:\n",
    "        buffer.append(line)\n",
    "        head_pos = f.tell()\n",
    "        f.seek(tail_pos)\n",
    "        tail_pos += nf.write(buffer.popleft())\n",
    "        f.seek(head_pos)\n",
    "        line = f.readline()\n",
    "    f.seek(tail_pos)\n",
    "    # finally, clear out the buffer:\n",
    "    while buffer:\n",
    "        line = buffer.popleft()\n",
    "        nf.write(buffer.popleft())\n",
    "    nf.truncate()"
   ]
  },
  {
   "cell_type": "code",
   "execution_count": 37,
   "metadata": {},
   "outputs": [
    {
     "name": "stdout",
     "output_type": "stream",
     "text": [
      "# Segments csv created Sun Mar  5 10:56:58 2017\r\n",
      "# num_ytids=2041789, num_segs=2041789, num_unique_labels=527, num_positive_labels=4020212\r\n",
      "# YTID, start_seconds, end_seconds, positive_labels\r\n",
      "---1_cCGK4M, 0.000, 10.000, \"/m/01g50p,/m/0284vy3,/m/06d_3,/m/07jdr,/m/07rwm0c\"\r\n",
      "---2_BBVHAA, 30.000, 40.000, \"/m/09x0r\"\r\n",
      "---B_v8ZoBY, 30.000, 40.000, \"/m/04rlf\"\r\n",
      "---EDNidJUA, 30.000, 40.000, \"/m/02qldy,/m/02zsn,/m/05zppz,/m/09x0r\"\r\n",
      "---N4cFAE1A, 21.000, 31.000, \"/m/04rlf,/m/09x0r\"\r\n",
      "---fcVQUf3E, 30.000, 40.000, \"/m/019jd,/m/07yv9\"\r\n",
      "---g9OGAhwc, 30.000, 40.000, \"/m/04rlf,/m/0c1dj\"\r\n"
     ]
    }
   ],
   "source": [
    "!head  $RAW_FILE"
   ]
  },
  {
   "cell_type": "code",
   "execution_count": 46,
   "metadata": {
    "scrolled": true
   },
   "outputs": [],
   "source": [
    "with open(RAW_FILE) as f:\n",
    "    with open(CLEANED_FILE, \"w\") as nf:\n",
    "        efficient_dropfirst(f, nf, 3, 10)"
   ]
  },
  {
   "cell_type": "code",
   "execution_count": 40,
   "metadata": {
    "colab": {
     "base_uri": "https://localhost:8080/",
     "height": 419
    },
    "colab_type": "code",
    "id": "f-3ift3ZC8Iq",
    "outputId": "5aafdf2d-90e7-48f9-c2b1-05177ba3af16"
   },
   "outputs": [
    {
     "name": "stdout",
     "output_type": "stream",
     "text": [
      "---1_cCGK4M, 0.000, 10.000, \"/m/01g50p,/m/0284vy3,/m/06d_3,/m/07jdr,/m/07rwm0c\"\r\n",
      "---2_BBVHAA, 30.000, 40.000, \"/m/09x0r\"\r\n"
     ]
    }
   ],
   "source": [
    "!head -n 2 $CLEANED_FILE"
   ]
  },
  {
   "cell_type": "code",
   "execution_count": 60,
   "metadata": {},
   "outputs": [],
   "source": [
    "!rm $PANDAS_IN_FILE"
   ]
  },
  {
   "cell_type": "code",
   "execution_count": 70,
   "metadata": {},
   "outputs": [],
   "source": [
    "#clean up for pandas\n",
    "\n",
    "with open(PANDAS_IN_FILE, \"w+\") as pin:\n",
    "    pin.write(\"\"\"youtubeid,start,end,tags\\n\"\"\")\n",
    "    with open(CLEANED_FILE, \"r\") as cf:\n",
    "        new_lines = []\n",
    "        for line in cf:\n",
    "            cols = line.split(\",\")\n",
    "            new_line = \"\"\n",
    "            \n",
    "            new_line = \",\".join([cols[0], cols[1], cols[2], \" \".join(cols[3:])])\n",
    "            \n",
    "            new_lines.append(new_line)\n",
    "            \n",
    "        pin.write(\"\\n\".join(new_lines))\n",
    "            \n",
    "            \n",
    "            \n",
    "            "
   ]
  },
  {
   "cell_type": "code",
   "execution_count": 71,
   "metadata": {},
   "outputs": [
    {
     "name": "stdout",
     "output_type": "stream",
     "text": [
      "youtubeid,start,end,tags\r\n",
      "---1_cCGK4M, 0.000, 10.000, \"/m/01g50p /m/0284vy3 /m/06d_3 /m/07jdr /m/07rwm0c\"\r\n"
     ]
    }
   ],
   "source": [
    "!head -n 2 $PANDAS_IN_FILE"
   ]
  },
  {
   "cell_type": "code",
   "execution_count": 72,
   "metadata": {
    "colab": {},
    "colab_type": "code",
    "id": "2cQafRCrrfi6"
   },
   "outputs": [
    {
     "data": {
      "text/html": [
       "<div>\n",
       "<style scoped>\n",
       "    .dataframe tbody tr th:only-of-type {\n",
       "        vertical-align: middle;\n",
       "    }\n",
       "\n",
       "    .dataframe tbody tr th {\n",
       "        vertical-align: top;\n",
       "    }\n",
       "\n",
       "    .dataframe thead th {\n",
       "        text-align: right;\n",
       "    }\n",
       "</style>\n",
       "<table border=\"1\" class=\"dataframe\">\n",
       "  <thead>\n",
       "    <tr style=\"text-align: right;\">\n",
       "      <th></th>\n",
       "      <th>youtubeid</th>\n",
       "      <th>start</th>\n",
       "      <th>end</th>\n",
       "      <th>tags</th>\n",
       "    </tr>\n",
       "  </thead>\n",
       "  <tbody>\n",
       "    <tr>\n",
       "      <th>0</th>\n",
       "      <td>---1_cCGK4M</td>\n",
       "      <td>0.0</td>\n",
       "      <td>10.0</td>\n",
       "      <td>\"/m/01g50p /m/0284vy3 /m/06d_3 /m/07jdr /m/07...</td>\n",
       "    </tr>\n",
       "    <tr>\n",
       "      <th>1</th>\n",
       "      <td>---2_BBVHAA</td>\n",
       "      <td>30.0</td>\n",
       "      <td>40.0</td>\n",
       "      <td>\"/m/09x0r\"</td>\n",
       "    </tr>\n",
       "    <tr>\n",
       "      <th>2</th>\n",
       "      <td>---B_v8ZoBY</td>\n",
       "      <td>30.0</td>\n",
       "      <td>40.0</td>\n",
       "      <td>\"/m/04rlf\"</td>\n",
       "    </tr>\n",
       "    <tr>\n",
       "      <th>3</th>\n",
       "      <td>---EDNidJUA</td>\n",
       "      <td>30.0</td>\n",
       "      <td>40.0</td>\n",
       "      <td>\"/m/02qldy /m/02zsn /m/05zppz /m/09x0r\"</td>\n",
       "    </tr>\n",
       "    <tr>\n",
       "      <th>4</th>\n",
       "      <td>---N4cFAE1A</td>\n",
       "      <td>21.0</td>\n",
       "      <td>31.0</td>\n",
       "      <td>\"/m/04rlf /m/09x0r\"</td>\n",
       "    </tr>\n",
       "    <tr>\n",
       "      <th>...</th>\n",
       "      <td>...</td>\n",
       "      <td>...</td>\n",
       "      <td>...</td>\n",
       "      <td>...</td>\n",
       "    </tr>\n",
       "    <tr>\n",
       "      <th>2041779</th>\n",
       "      <td>zzyiWF0F9sg</td>\n",
       "      <td>20.0</td>\n",
       "      <td>30.0</td>\n",
       "      <td>\"/m/01j4z9 /m/0_ksk\"</td>\n",
       "    </tr>\n",
       "    <tr>\n",
       "      <th>2041780</th>\n",
       "      <td>zzyr6l8MetA</td>\n",
       "      <td>60.0</td>\n",
       "      <td>70.0</td>\n",
       "      <td>\"/m/04rlf /m/05148p4\"</td>\n",
       "    </tr>\n",
       "    <tr>\n",
       "      <th>2041781</th>\n",
       "      <td>zzyyleHsxfk</td>\n",
       "      <td>20.0</td>\n",
       "      <td>30.0</td>\n",
       "      <td>\"/m/05tny_ /m/068hy /m/0bt9lr /m/0jbk\"</td>\n",
       "    </tr>\n",
       "    <tr>\n",
       "      <th>2041782</th>\n",
       "      <td>zzz3PZXRQ_8</td>\n",
       "      <td>30.0</td>\n",
       "      <td>40.0</td>\n",
       "      <td>\"/m/030rvx /m/09x0r\"</td>\n",
       "    </tr>\n",
       "    <tr>\n",
       "      <th>2041783</th>\n",
       "      <td>zzztDPePp4g</td>\n",
       "      <td>410.0</td>\n",
       "      <td>420.0</td>\n",
       "      <td>\"/m/04rlf /m/09x0r /t/dd00126\"</td>\n",
       "    </tr>\n",
       "  </tbody>\n",
       "</table>\n",
       "<p>2041784 rows × 4 columns</p>\n",
       "</div>"
      ],
      "text/plain": [
       "           youtubeid  start    end  \\\n",
       "0        ---1_cCGK4M    0.0   10.0   \n",
       "1        ---2_BBVHAA   30.0   40.0   \n",
       "2        ---B_v8ZoBY   30.0   40.0   \n",
       "3        ---EDNidJUA   30.0   40.0   \n",
       "4        ---N4cFAE1A   21.0   31.0   \n",
       "...              ...    ...    ...   \n",
       "2041779  zzyiWF0F9sg   20.0   30.0   \n",
       "2041780  zzyr6l8MetA   60.0   70.0   \n",
       "2041781  zzyyleHsxfk   20.0   30.0   \n",
       "2041782  zzz3PZXRQ_8   30.0   40.0   \n",
       "2041783  zzztDPePp4g  410.0  420.0   \n",
       "\n",
       "                                                      tags  \n",
       "0         \"/m/01g50p /m/0284vy3 /m/06d_3 /m/07jdr /m/07...  \n",
       "1                                               \"/m/09x0r\"  \n",
       "2                                               \"/m/04rlf\"  \n",
       "3                  \"/m/02qldy /m/02zsn /m/05zppz /m/09x0r\"  \n",
       "4                                      \"/m/04rlf /m/09x0r\"  \n",
       "...                                                    ...  \n",
       "2041779                               \"/m/01j4z9 /m/0_ksk\"  \n",
       "2041780                              \"/m/04rlf /m/05148p4\"  \n",
       "2041781             \"/m/05tny_ /m/068hy /m/0bt9lr /m/0jbk\"  \n",
       "2041782                               \"/m/030rvx /m/09x0r\"  \n",
       "2041783                     \"/m/04rlf /m/09x0r /t/dd00126\"  \n",
       "\n",
       "[2041784 rows x 4 columns]"
      ]
     },
     "execution_count": 72,
     "metadata": {},
     "output_type": "execute_result"
    }
   ],
   "source": [
    "pd.read_csv(PANDAS_IN_FILE)"
   ]
  },
  {
   "cell_type": "code",
   "execution_count": 0,
   "metadata": {
    "colab": {},
    "colab_type": "code",
    "id": "sr_DUHbFe5Oh"
   },
   "outputs": [],
   "source": [
    "# NEXT STEPS \n",
    "# Get cough videos and download and process to PDM using FFMPEG"
   ]
  },
  {
   "cell_type": "code",
   "execution_count": 0,
   "metadata": {
    "colab": {},
    "colab_type": "code",
    "id": "dOykcP1dewoa"
   },
   "outputs": [],
   "source": []
  }
 ],
 "metadata": {
  "colab": {
   "name": "Download",
   "provenance": []
  },
  "kernelspec": {
   "display_name": "Python 3",
   "language": "python",
   "name": "python3"
  },
  "language_info": {
   "codemirror_mode": {
    "name": "ipython",
    "version": 3
   },
   "file_extension": ".py",
   "mimetype": "text/x-python",
   "name": "python",
   "nbconvert_exporter": "python",
   "pygments_lexer": "ipython3",
   "version": "3.7.6"
  }
 },
 "nbformat": 4,
 "nbformat_minor": 1
}
