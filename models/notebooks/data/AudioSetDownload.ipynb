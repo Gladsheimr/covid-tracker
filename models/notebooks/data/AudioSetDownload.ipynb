{
 "cells": [
  {
   "cell_type": "code",
   "execution_count": null,
   "metadata": {},
   "outputs": [],
   "source": [
    "!mkdir -p ../../audio_set"
   ]
  },
  {
   "cell_type": "code",
   "execution_count": null,
   "metadata": {},
   "outputs": [],
   "source": [
    "# Download data from http://storage.googleapis.com/us_audioset/youtube_corpus/v1/csv/unbalanced_train_segments.csv \n",
    "# Put it in ../../data"
   ]
  },
  {
   "cell_type": "code",
   "execution_count": 4,
   "metadata": {
    "colab": {},
    "colab_type": "code",
    "id": "aRzK7pTrrIZe"
   },
   "outputs": [],
   "source": [
    "import io\n",
    "import pandas as pd\n",
    "from collections import deque"
   ]
  },
  {
   "cell_type": "code",
   "execution_count": 16,
   "metadata": {
    "colab": {},
    "colab_type": "code",
    "id": "VQR9CCm7q-_L"
   },
   "outputs": [],
   "source": [
    "ROOT_DIR=\"../../data/audio_set\"\n",
    "RAW_FILE=\"{}/{}\".format(ROOT_DIR, \"unbalanced_train_segments.csv\")\n",
    "CLEANED_FILE=\"{}/{}\".format(ROOT_DIR, \"cleaned_train_segments.csv\")"
   ]
  },
  {
   "cell_type": "code",
   "execution_count": 44,
   "metadata": {},
   "outputs": [],
   "source": [
    "# Remove the first 3 lines of file\n",
    "def efficient_dropfirst(f, nf, dropfirst=1, buffersize=3):\n",
    "    f.seek(0)\n",
    "    buffer = deque()\n",
    "    tail_pos = 0\n",
    "    # these next two loops assume the file has many thousands of\n",
    "    # lines so we can safely drop and buffer the first few...\n",
    "    for _ in range(dropfirst):\n",
    "        f.readline()\n",
    "    for _ in range(buffersize):\n",
    "        buffer.append(f.readline())\n",
    "    line = f.readline()\n",
    "    while line:\n",
    "        buffer.append(line)\n",
    "        head_pos = f.tell()\n",
    "        f.seek(tail_pos)\n",
    "        tail_pos += nf.write(buffer.popleft())\n",
    "        f.seek(head_pos)\n",
    "        line = f.readline()\n",
    "    f.seek(tail_pos)\n",
    "    # finally, clear out the buffer:\n",
    "    while buffer:\n",
    "        line = buffer.popleft()\n",
    "        nf.write(buffer.popleft())\n",
    "    nf.truncate()"
   ]
  },
  {
   "cell_type": "code",
   "execution_count": 37,
   "metadata": {},
   "outputs": [
    {
     "name": "stdout",
     "output_type": "stream",
     "text": [
      "# Segments csv created Sun Mar  5 10:56:58 2017\r\n",
      "# num_ytids=2041789, num_segs=2041789, num_unique_labels=527, num_positive_labels=4020212\r\n",
      "# YTID, start_seconds, end_seconds, positive_labels\r\n",
      "---1_cCGK4M, 0.000, 10.000, \"/m/01g50p,/m/0284vy3,/m/06d_3,/m/07jdr,/m/07rwm0c\"\r\n",
      "---2_BBVHAA, 30.000, 40.000, \"/m/09x0r\"\r\n",
      "---B_v8ZoBY, 30.000, 40.000, \"/m/04rlf\"\r\n",
      "---EDNidJUA, 30.000, 40.000, \"/m/02qldy,/m/02zsn,/m/05zppz,/m/09x0r\"\r\n",
      "---N4cFAE1A, 21.000, 31.000, \"/m/04rlf,/m/09x0r\"\r\n",
      "---fcVQUf3E, 30.000, 40.000, \"/m/019jd,/m/07yv9\"\r\n",
      "---g9OGAhwc, 30.000, 40.000, \"/m/04rlf,/m/0c1dj\"\r\n"
     ]
    }
   ],
   "source": [
    "!head  $RAW_FILE"
   ]
  },
  {
   "cell_type": "code",
   "execution_count": null,
   "metadata": {
    "scrolled": true
   },
   "outputs": [],
   "source": [
    "with open(RAW_FILE) as f:\n",
    "    with open(CLEANED_FILE, \"w\") as nf:\n",
    "        efficient_dropfirst(f, nf, 3, 10)"
   ]
  },
  {
   "cell_type": "code",
   "execution_count": 40,
   "metadata": {
    "colab": {
     "base_uri": "https://localhost:8080/",
     "height": 419
    },
    "colab_type": "code",
    "id": "f-3ift3ZC8Iq",
    "outputId": "5aafdf2d-90e7-48f9-c2b1-05177ba3af16"
   },
   "outputs": [
    {
     "name": "stdout",
     "output_type": "stream",
     "text": [
      "---1_cCGK4M, 0.000, 10.000, \"/m/01g50p,/m/0284vy3,/m/06d_3,/m/07jdr,/m/07rwm0c\"\r\n",
      "---2_BBVHAA, 30.000, 40.000, \"/m/09x0r\"\r\n"
     ]
    }
   ],
   "source": [
    "!head -n 2 $CLEANED_FILE"
   ]
  },
  {
   "cell_type": "code",
   "execution_count": 0,
   "metadata": {
    "colab": {},
    "colab_type": "code",
    "id": "2cQafRCrrfi6"
   },
   "outputs": [],
   "source": [
    "pd.DataFrame(pd.read_csv(\"./cough_vids.csv\")[[\"youtubeid\", \"start\", \"end\"]]).to_csv(\"./youtubeids.csv\", header=False)"
   ]
  },
  {
   "cell_type": "code",
   "execution_count": 0,
   "metadata": {
    "colab": {},
    "colab_type": "code",
    "id": "jC5IyKVUtRgX"
   },
   "outputs": [],
   "source": [
    "!awk -F \"\\\"*,\\\"*\" '{print \"https://youtube.com/watch?v=\"$2}' youtubeids.csv"
   ]
  },
  {
   "cell_type": "code",
   "execution_count": 0,
   "metadata": {
    "colab": {
     "base_uri": "https://localhost:8080/",
     "height": 309
    },
    "colab_type": "code",
    "id": "u5Pvz9Tkrh4k",
    "outputId": "165dace5-a976-4610-8664-23bceff499e9"
   },
   "outputs": [
    {
     "name": "stdout",
     "output_type": "stream",
     "text": [
      "ffmpeg version 3.4.6-0ubuntu0.18.04.1 Copyright (c) 2000-2019 the FFmpeg developers\n",
      "  built with gcc 7 (Ubuntu 7.3.0-16ubuntu3)\n",
      "  configuration: --prefix=/usr --extra-version=0ubuntu0.18.04.1 --toolchain=hardened --libdir=/usr/lib/x86_64-linux-gnu --incdir=/usr/include/x86_64-linux-gnu --enable-gpl --disable-stripping --enable-avresample --enable-avisynth --enable-gnutls --enable-ladspa --enable-libass --enable-libbluray --enable-libbs2b --enable-libcaca --enable-libcdio --enable-libflite --enable-libfontconfig --enable-libfreetype --enable-libfribidi --enable-libgme --enable-libgsm --enable-libmp3lame --enable-libmysofa --enable-libopenjpeg --enable-libopenmpt --enable-libopus --enable-libpulse --enable-librubberband --enable-librsvg --enable-libshine --enable-libsnappy --enable-libsoxr --enable-libspeex --enable-libssh --enable-libtheora --enable-libtwolame --enable-libvorbis --enable-libvpx --enable-libwavpack --enable-libwebp --enable-libx265 --enable-libxml2 --enable-libxvid --enable-libzmq --enable-libzvbi --enable-omx --enable-openal --enable-opengl --enable-sdl2 --enable-libdc1394 --enable-libdrm --enable-libiec61883 --enable-chromaprint --enable-frei0r --enable-libopencv --enable-libx264 --enable-shared\n",
      "  libavutil      55. 78.100 / 55. 78.100\n",
      "  libavcodec     57.107.100 / 57.107.100\n",
      "  libavformat    57. 83.100 / 57. 83.100\n",
      "  libavdevice    57. 10.100 / 57. 10.100\n",
      "  libavfilter     6.107.100 /  6.107.100\n",
      "  libavresample   3.  7.  0 /  3.  7.  0\n",
      "  libswscale      4.  8.100 /  4.  8.100\n",
      "  libswresample   2.  9.100 /  2.  9.100\n",
      "  libpostproc    54.  7.100 / 54.  7.100\n",
      "Hyper fast Audio and Video encoder\n",
      "usage: ffmpeg [options] [[infile options] -i infile]... {[outfile options] outfile}...\n",
      "\n",
      "\u001b[0;33mUse -h to get full help or, even better, run 'man ffmpeg'\n",
      "\u001b[0m"
     ]
    }
   ],
   "source": [
    "!ffmpeg "
   ]
  },
  {
   "cell_type": "code",
   "execution_count": 0,
   "metadata": {
    "colab": {},
    "colab_type": "code",
    "id": "sr_DUHbFe5Oh"
   },
   "outputs": [],
   "source": []
  },
  {
   "cell_type": "code",
   "execution_count": 0,
   "metadata": {
    "colab": {},
    "colab_type": "code",
    "id": "dOykcP1dewoa"
   },
   "outputs": [],
   "source": []
  }
 ],
 "metadata": {
  "colab": {
   "name": "Download",
   "provenance": []
  },
  "kernelspec": {
   "display_name": "Python 3",
   "language": "python",
   "name": "python3"
  },
  "language_info": {
   "codemirror_mode": {
    "name": "ipython",
    "version": 3
   },
   "file_extension": ".py",
   "mimetype": "text/x-python",
   "name": "python",
   "nbconvert_exporter": "python",
   "pygments_lexer": "ipython3",
   "version": "3.7.6"
  }
 },
 "nbformat": 4,
 "nbformat_minor": 1
}
